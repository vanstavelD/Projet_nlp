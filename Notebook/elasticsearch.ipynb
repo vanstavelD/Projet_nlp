{
 "cells": [
  {
   "cell_type": "markdown",
   "metadata": {},
   "source": [
    "## Mapper et importer les données"
   ]
  },
  {
   "cell_type": "code",
   "execution_count": null,
   "metadata": {},
   "outputs": [],
   "source": [
    "from elasticsearch import Elasticsearch\n",
    "\n",
    "# Connexion à Elasticsearch\n",
    "es = Elasticsearch(\"http://localhost:9200\")\n",
    "\n",
    "# Supprimer l'index \"notes\" s'il existe\n",
    "if es.indices.exists(index=\"notes\"):\n",
    "    es.indices.delete(index=\"notes\")"
   ]
  },
  {
   "cell_type": "code",
   "execution_count": null,
   "metadata": {},
   "outputs": [],
   "source": [
    "from elasticsearch import Elasticsearch\n",
    "\n",
    "# Connexion à Elasticsearch\n",
    "es = Elasticsearch(\"http://localhost:9200\")\n",
    "\n",
    "# Mapping de l'index \"notes\"\n",
    "mapping = {\n",
    "    \"mappings\": {\n",
    "        \"properties\": {\n",
    "            \"patient_lastname\": {\"type\": \"keyword\"},\n",
    "            \"patient_firstname\": {\"type\": \"keyword\"},\n",
    "            \"text\": {\"type\": \"text\", \"analyzer\": \"standard\"},\n",
    "            \"date\": {\"type\": \"date\"},\n",
    "            \"patient_left\": {\"type\": \"boolean\"},\n",
    "            \"emotion\": {\"type\": \"keyword\"},\n",
    "            \"confidence\": {\"type\": \"float\"}\n",
    "        }\n",
    "    }\n",
    "}\n",
    "\n",
    "# Création de l'index \"notes\" avec le mapping\n",
    "es.indices.create(index=\"notes\", body=mapping)\n",
    "\n",
    "# Import des données à partir du jeu de données et de la bibliothèque Faker\n",
    "# Remplacez cette partie par votre propre logique d'importation de données\n",
    "from faker import Faker\n",
    "import csv\n",
    "\n",
    "fake = Faker()\n",
    "\n",
    "with open(\"../data/Emotion_final.csv\", \"r\") as file:\n",
    "    reader = csv.DictReader(file)\n",
    "    for row in reader:\n",
    "        document = {\n",
    "            \"patient_lastname\": fake.last_name(),\n",
    "            \"patient_firstname\": fake.first_name(),\n",
    "            \"text\": row[\"Text\"],\n",
    "            \"date\": fake.date(),\n",
    "            \"patient_left\": fake.boolean(),\n",
    "            \"emotion\": \"Model\",  # Remplacez par votre propre logique pour remplir ce champ\n",
    "            \"confidence\": \"Model\"  # Remplacez par votre propre logique pour remplir ce champ\n",
    "        }\n",
    "        es.index(index=\"notes\", body=document)\n"
   ]
  },
  {
   "cell_type": "markdown",
   "metadata": {},
   "source": [
    "## Requêtes "
   ]
  },
  {
   "cell_type": "markdown",
   "metadata": {},
   "source": [
    "Recherche de la répartition des sentiments des textes pour un patient :"
   ]
  },
  {
   "cell_type": "code",
   "execution_count": null,
   "metadata": {},
   "outputs": [],
   "source": [
    "from elasticsearch import Elasticsearch\n",
    "import pandas as pd\n",
    "\n",
    "es = Elasticsearch(\"http://localhost:9200\")\n",
    "\n",
    "# Recherche pour un patient spécifique\n",
    "patient_lastname = \"Doe\"\n",
    "patient_firstname = \"John\"\n",
    "\n",
    "query = {\n",
    "    \"query\": {\n",
    "        \"bool\": {\n",
    "            \"must\": [\n",
    "                {\"match\": {\"patient_lastname\": patient_lastname}},\n",
    "                {\"match\": {\"patient_firstname\": patient_firstname}}\n",
    "            ]\n",
    "        }\n",
    "    },\n",
    "    \"aggs\": {\n",
    "        \"sentiment_distribution\": {\n",
    "            \"terms\": {\"field\": \"emotion.keyword\"}\n",
    "        }\n",
    "    }\n",
    "}\n",
    "\n",
    "result = es.search(index=\"notes\", body=query, size=0)\n",
    "aggregations = result[\"aggregations\"][\"sentiment_distribution\"][\"buckets\"]\n",
    "\n",
    "df_sentiment_distribution = pd.DataFrame(aggregations)\n",
    "print(df_sentiment_distribution)"
   ]
  },
  {
   "cell_type": "markdown",
   "metadata": {},
   "source": [
    "Élaboration d'une matrice de sentiments contradictoires :"
   ]
  },
  {
   "cell_type": "code",
   "execution_count": null,
   "metadata": {},
   "outputs": [],
   "source": [
    "import seaborn as sns\n",
    "import matplotlib.pyplot as plt\n",
    "\n",
    "# Liste des sentiments\n",
    "sentiments = [\"happy\", \"sad\", \"angry\", \"calm\"]\n",
    "\n",
    "contradiction_matrix = []\n",
    "\n",
    "for sentiment in sentiments:\n",
    "    query = {\n",
    "        \"query\": {\n",
    "            \"bool\": {\n",
    "                \"must\": [\n",
    "                    {\"match\": {\"emotion\": \"happy\"}},  # Remplacez \"happy\" par le sentiment souhaité\n",
    "                    {\"match\": {\"text\": \"sadness\"}}  # Remplacez \"sadness\" par le mot à rechercher\n",
    "                ]\n",
    "            }\n",
    "        }\n",
    "    }\n",
    "\n",
    "    result = es.search(index=\"notes\", body=query, size=0)\n",
    "    total_documents = result[\"hits\"][\"total\"][\"value\"]\n",
    "\n",
    "    percentage = (total_documents / len(df_sentiment_distribution)) * 100\n",
    "\n",
    "    contradiction_matrix.append(percentage)\n",
    "\n",
    "heatmap_data = pd.DataFrame(contradiction_matrix, index=sentiments, columns=[\"Percentage\"])\n",
    "sns.heatmap(heatmap_data, annot=True, cmap=\"YlGnBu\")\n",
    "plt.xlabel(\"Contradictory Word\")\n",
    "plt.ylabel(\"Sentiment\")\n",
    "plt.title(\"Contradictory Word Percentage by Sentiment\")\n",
    "plt.show()"
   ]
  },
  {
   "cell_type": "markdown",
   "metadata": {},
   "source": [
    "Recherche du nombre de textes correspondants aux différentes étapes du deuil :"
   ]
  },
  {
   "cell_type": "code",
   "execution_count": null,
   "metadata": {},
   "outputs": [],
   "source": [
    "stages_of_grief = [\"denial\", \"anger\", \"bargaining\", \"depression\", \"acceptance\"]\n",
    "\n",
    "for stage in stages_of_grief:\n",
    "    # Recherche pleine\n",
    "    query_full = {\n",
    "        \"query\": {\n",
    "            \"match\": {\"text\": stage}\n",
    "        }\n",
    "    }\n",
    "\n",
    "    result_full = es.search(index=\"notes\", body=query_full)\n",
    "    total_documents_full = result_full[\"hits\"][\"total\"][\"value\"]\n",
    "\n",
    "    # Recherche fuzzy\n",
    "    query_fuzzy = {\n",
    "        \"query\": {\n",
    "            \"fuzzy\": {\"text\": {\"value\": stage}}\n",
    "        }\n",
    "    }\n",
    "\n",
    "    result_fuzzy = es.search(index=\"notes\", body=query_fuzzy)\n",
    "    total_documents_fuzzy = result_fuzzy[\"hits\"][\"total\"][\"value\"]\n",
    "\n",
    "    print(f\"Stage: {stage}\")\n",
    "    print(f\"Total Documents (Full): {total_documents_full}\")\n",
    "    print(f\"Total Documents (Fuzzy): {total_documents_fuzzy}\")\n",
    "    print()"
   ]
  },
  {
   "cell_type": "markdown",
   "metadata": {},
   "source": [
    "Recherche des textes avec différents critères :"
   ]
  },
  {
   "cell_type": "code",
   "execution_count": null,
   "metadata": {},
   "outputs": [],
   "source": [
    "query = {\n",
    "    \"query\": {\n",
    "        \"bool\": {\n",
    "            \"must\": [\n",
    "                {\"match\": {\"text\": \"good day\"}},  # Doit contenir \"good day\"\n",
    "                {\"term\": {\"patient_left\": False}}  # Les patients sont encore en consultation\n",
    "            ],\n",
    "            \"should\": [\n",
    "                {\"match\": {\"text\": \"to rest\"}}  # Doit contenir \"to rest\" si possible\n",
    "            ],\n",
    "            \"filter\": [\n",
    "                {\"range\": {\"confidence\": {\"gte\": 0.5}}}  # Confidence supérieure ou égale à 0.5\n",
    "            ]\n",
    "        }\n",
    "    },\n",
    "    \"aggs\": {\n",
    "        \"sentiment_distribution\": {\n",
    "            \"terms\": {\"field\": \"emotion.keyword\"}\n",
    "        }\n",
    "    }\n",
    "}\n",
    "\n",
    "result = es.search(index=\"notes\", body=query)\n",
    "hits = result[\"hits\"][\"hits\"]\n",
    "\n",
    "df_results = pd.DataFrame(hits)\n",
    "print(df_results)"
   ]
  }
 ],
 "metadata": {
  "language_info": {
   "name": "python"
  },
  "orig_nbformat": 4
 },
 "nbformat": 4,
 "nbformat_minor": 2
}
